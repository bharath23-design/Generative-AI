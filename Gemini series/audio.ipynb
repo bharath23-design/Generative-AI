{
 "cells": [
  {
   "cell_type": "markdown",
   "metadata": {},
   "source": [
    "# Audio capabilities\n",
    "Gemini can respond to prompts about audio. For example, Gemini can:\n",
    "\n",
    "- Describe, summarize, or answer questions about audio content.\n",
    "- Provide a transcription of the audio.\n",
    "- Provide answers or a transcription about a specific segment of the audio.\n",
    "\n",
    "Supported audio formats\n",
    "Gemini supports the following audio format MIME types:\n",
    "\n",
    "- WAV - audio/wav\n",
    "- MP3 - audio/mp3\n",
    "- AIFF - audio/aiff\n",
    "- AAC - audio/aac\n",
    "- OGG Vorbis - audio/ogg\n",
    "- FLAC - audio/flac"
   ]
  },
  {
   "cell_type": "markdown",
   "metadata": {},
   "source": [
    "Technical details about audio\n",
    "Gemini imposes the following rules on audio:\n",
    "\n",
    "- Gemini represents each second of audio as 25 tokens; for example, one minute of audio is represented as 1,500 tokens.\n",
    "- Gemini can only infer responses to English-language speech.\n",
    "- Gemini can \"understand\" non-speech components, such as birdsong or sirens.\n",
    "- The maximum supported length of audio data in a single prompt is 9.5 hours. Gemini doesn't limit the number of audio files in a single prompt; - however, the total combined length of all audio files in a single prompt cannot exceed 9.5 hours.\n",
    "- Gemini downsamples audio files to a 16 Kbps data resolution.\n",
    "- If the audio source contains multiple channels, Gemini combines those channels down to a single channel."
   ]
  },
  {
   "cell_type": "markdown",
   "metadata": {},
   "source": []
  },
  {
   "cell_type": "code",
   "execution_count": null,
   "metadata": {
    "vscode": {
     "languageId": "plaintext"
    }
   },
   "outputs": [],
   "source": [
    "Flash\n"
   ]
  }
 ],
 "metadata": {
  "language_info": {
   "name": "python"
  }
 },
 "nbformat": 4,
 "nbformat_minor": 2
}
